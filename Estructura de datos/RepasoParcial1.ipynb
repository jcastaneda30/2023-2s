{
 "cells": [
  {
   "cell_type": "code",
   "execution_count": 5,
   "metadata": {},
   "outputs": [
    {
     "name": "stdout",
     "output_type": "stream",
     "text": [
      "(1, 2, 3, 7, 5, 6)\n"
     ]
    }
   ],
   "source": [
    "#Arreglos Homogeneos en python son las tuplas\n",
    "a=(1,2,3,4,5,6)\n",
    "#Las tuplas no son editables, aunque es posible \n",
    "#editarlas con ciertas acciones\n",
    "a=a[0:3]+(7,)+a[4:]\n",
    "#Aunque esto ya esta en otra posicion de memoria\n",
    "print(a)"
   ]
  },
  {
   "cell_type": "code",
   "execution_count": 27,
   "metadata": {},
   "outputs": [
    {
     "name": "stdout",
     "output_type": "stream",
     "text": [
      "L:0 R:11 M:5\n",
      "L:0 R:4 M:2\n",
      "2\n"
     ]
    }
   ],
   "source": [
    "def binarySearch(array,obj):\n",
    "    r=len(array)-1\n",
    "    l=0\n",
    "    while(l<=r):\n",
    "        medio=(r+l)//2\n",
    "        print(f\"L:{l} R:{r} M:{medio}\")\n",
    "        if(array[medio]==obj):\n",
    "            return medio\n",
    "        elif(array[medio]<obj):\n",
    "            l=medio+1\n",
    "        else:\n",
    "            r=medio-1\n",
    "    return -1\n",
    "\n",
    "a=[1,2,3,4,5,6,8,9,10,11,12,13]\n",
    "print(binarySearch(a,3))"
   ]
  },
  {
   "cell_type": "code",
   "execution_count": 28,
   "metadata": {},
   "outputs": [
    {
     "name": "stdout",
     "output_type": "stream",
     "text": [
      "[1, 2, 3, 4, 5, 6, 7, 8, 9]\n"
     ]
    }
   ],
   "source": [
    "def selectionSort(array):\n",
    "    for i in range(len(array)):\n",
    "        position=i\n",
    "        for j in range(i+1,len(array)):\n",
    "            if(array[position]>array[j]):\n",
    "                position=j\n",
    "        array[i],array[position]=array[position],array[i]\n",
    "    return array\n",
    "\n",
    "a=[9,8,7,6,5,4,2,3,1]\n",
    "selectionSort(a)\n",
    "print(a)"
   ]
  },
  {
   "cell_type": "code",
   "execution_count": 5,
   "metadata": {},
   "outputs": [
    {
     "name": "stdout",
     "output_type": "stream",
     "text": [
      "[1, 2, 3, 4, 5, 6, 7, 8, 9]\n"
     ]
    }
   ],
   "source": [
    "def insertSort(array):\n",
    "    for i in range(len(array)):\n",
    "        for j in range(i,0,-1):\n",
    "            if array[j-1] > array[j]:\n",
    "                array[j-1],array[j]=array[j],array[j-1]\n",
    "\n",
    "a=[9,8,7,6,5,4,2,3,1]\n",
    "insertSort(a)\n",
    "print(a)"
   ]
  },
  {
   "cell_type": "code",
   "execution_count": null,
   "metadata": {},
   "outputs": [],
   "source": [
    "def bubbleSort(arr):\n",
    "    for i in range(1,len(arr)):\n",
    "        for j in range(len(arr)-i):\n",
    "            if arr[j-1]>arr[j]:\n",
    "                arr[j-1],arr[j]=arr[j],arr[j-1]\n",
    "a=[9,8,7,6,5,4,2,3,1]\n",
    "bubbleSort(a)\n",
    "print(a)"
   ]
  },
  {
   "cell_type": "code",
   "execution_count": 6,
   "metadata": {},
   "outputs": [
    {
     "name": "stdout",
     "output_type": "stream",
     "text": [
      "1\n",
      "4\n",
      "4\n"
     ]
    }
   ],
   "source": [
    "from bisect import bisect_left, bisect, bisect_right\n",
    "\n",
    "a = (1,2,2,2,3)\n",
    "x = 2\n",
    "print(bisect_left(a, x)) #1\n",
    "print(bisect(a, x)) #4\n",
    "print(bisect_right(a, x))"
   ]
  }
 ],
 "metadata": {
  "kernelspec": {
   "display_name": "Python 3",
   "language": "python",
   "name": "python3"
  },
  "language_info": {
   "codemirror_mode": {
    "name": "ipython",
    "version": 3
   },
   "file_extension": ".py",
   "mimetype": "text/x-python",
   "name": "python",
   "nbconvert_exporter": "python",
   "pygments_lexer": "ipython3",
   "version": "3.11.0"
  },
  "orig_nbformat": 4
 },
 "nbformat": 4,
 "nbformat_minor": 2
}
